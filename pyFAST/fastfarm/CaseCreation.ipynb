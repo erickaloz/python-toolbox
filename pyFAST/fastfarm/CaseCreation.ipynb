{
 "cells": [
  {
   "cell_type": "code",
   "execution_count": 1,
   "metadata": {},
   "outputs": [],
   "source": [
    "import pandas as pd\n",
    "import numpy as np\n",
    "import os\n",
    "\n",
    "from InputSetup import FFInputCreation as inputCreation\n",
    "from ParameterManipulation import createTSParamFiles, createFFParamFiles, copyNominalFiles\n",
    "from stochasticTurbulenceTools_mod import stochasticTurbulence"
   ]
  },
  {
   "cell_type": "markdown",
   "metadata": {},
   "source": [
    "#### A few input parameters. If # of seeds does not apply, can set to one or modify other parts of this script to remove it."
   ]
  },
  {
   "cell_type": "code",
   "execution_count": 2,
   "metadata": {},
   "outputs": [],
   "source": [
    "nSeeds = 2\n",
    "\n",
    "HubHt = 148.84\n",
    "D=246.0"
   ]
  },
  {
   "cell_type": "code",
   "execution_count": 13,
   "metadata": {},
   "outputs": [],
   "source": [
    "workdir='/home/kshaler/python-toolbox/pyFAST/fastfarm/FFarmSetup'\n",
    "os.chdir(workdir)"
   ]
  },
  {
   "cell_type": "markdown",
   "metadata": {},
   "source": [
    "### Create cases based on ranges or discrete values?"
   ]
  },
  {
   "cell_type": "code",
   "execution_count": 4,
   "metadata": {},
   "outputs": [],
   "source": [
    "Ranges = False"
   ]
  },
  {
   "cell_type": "markdown",
   "metadata": {},
   "source": [
    "### Read in case parameters"
   ]
  },
  {
   "cell_type": "code",
   "execution_count": 5,
   "metadata": {},
   "outputs": [],
   "source": [
    "if Ranges == False:\n",
    "    ParamVals = pd.read_csv('../SampleFiles/ParamValues.csv', header=None,index_col=0,delimiter=',')\n",
    "    nTurbs = int(ParamVals.shape[0]/3)\n",
    "    nCases = int(ParamVals.shape[1])\n",
    "else:\n",
    "    #writeParamVals()\n",
    "    OrigVals = pd.read_csv('../SampleFiles/ParamRanges.csv', names=['Var','MinVar','MaxVar','NomVar'])\n",
    "    OrigVals = OrigVals['NomVar']"
   ]
  },
  {
   "cell_type": "code",
   "execution_count": 6,
   "metadata": {},
   "outputs": [
    {
     "data": {
      "text/html": [
       "<div>\n",
       "<style scoped>\n",
       "    .dataframe tbody tr th:only-of-type {\n",
       "        vertical-align: middle;\n",
       "    }\n",
       "\n",
       "    .dataframe tbody tr th {\n",
       "        vertical-align: top;\n",
       "    }\n",
       "\n",
       "    .dataframe thead th {\n",
       "        text-align: right;\n",
       "    }\n",
       "</style>\n",
       "<table border=\"1\" class=\"dataframe\">\n",
       "  <thead>\n",
       "    <tr style=\"text-align: right;\">\n",
       "      <th></th>\n",
       "      <th>1</th>\n",
       "      <th>2</th>\n",
       "      <th>3</th>\n",
       "    </tr>\n",
       "    <tr>\n",
       "      <th>0</th>\n",
       "      <th></th>\n",
       "      <th></th>\n",
       "      <th></th>\n",
       "    </tr>\n",
       "  </thead>\n",
       "  <tbody>\n",
       "    <tr>\n",
       "      <th>TI</th>\n",
       "      <td>A</td>\n",
       "      <td>B</td>\n",
       "      <td>C</td>\n",
       "    </tr>\n",
       "    <tr>\n",
       "      <th>Vhub</th>\n",
       "      <td>6.0</td>\n",
       "      <td>12.0</td>\n",
       "      <td>18.0</td>\n",
       "    </tr>\n",
       "    <tr>\n",
       "      <th>Shear</th>\n",
       "      <td>0.1</td>\n",
       "      <td>0.2</td>\n",
       "      <td>0.3</td>\n",
       "    </tr>\n",
       "    <tr>\n",
       "      <th>T1x-locs</th>\n",
       "      <td>0.0</td>\n",
       "      <td>0.0</td>\n",
       "      <td>0.0</td>\n",
       "    </tr>\n",
       "    <tr>\n",
       "      <th>T1y-locs</th>\n",
       "      <td>0.0</td>\n",
       "      <td>0.0</td>\n",
       "      <td>0.0</td>\n",
       "    </tr>\n",
       "    <tr>\n",
       "      <th>T2x-locs</th>\n",
       "      <td>1722.0</td>\n",
       "      <td>1722.0</td>\n",
       "      <td>1722.0</td>\n",
       "    </tr>\n",
       "    <tr>\n",
       "      <th>T2y-locs</th>\n",
       "      <td>0.0</td>\n",
       "      <td>369.0</td>\n",
       "      <td>-369.0</td>\n",
       "    </tr>\n",
       "    <tr>\n",
       "      <th>T3x-locs</th>\n",
       "      <td>3444.0</td>\n",
       "      <td>3444.0</td>\n",
       "      <td>3444.0</td>\n",
       "    </tr>\n",
       "    <tr>\n",
       "      <th>T3y-locs</th>\n",
       "      <td>0.0</td>\n",
       "      <td>369.0</td>\n",
       "      <td>-369.0</td>\n",
       "    </tr>\n",
       "  </tbody>\n",
       "</table>\n",
       "</div>"
      ],
      "text/plain": [
       "               1       2       3\n",
       "0                               \n",
       "TI             A       B       C\n",
       "Vhub         6.0    12.0    18.0\n",
       "Shear        0.1     0.2     0.3\n",
       "T1x-locs     0.0     0.0     0.0\n",
       "T1y-locs     0.0     0.0     0.0\n",
       "T2x-locs  1722.0  1722.0  1722.0\n",
       "T2y-locs     0.0   369.0  -369.0\n",
       "T3x-locs  3444.0  3444.0  3444.0\n",
       "T3y-locs     0.0   369.0  -369.0"
      ]
     },
     "execution_count": 6,
     "metadata": {},
     "output_type": "execute_result"
    }
   ],
   "source": [
    "ParamVals"
   ]
  },
  {
   "cell_type": "markdown",
   "metadata": {},
   "source": [
    "##### Detect the number of turbines in the simulation; this will have to be modified based on your input file"
   ]
  },
  {
   "cell_type": "code",
   "execution_count": 7,
   "metadata": {},
   "outputs": [],
   "source": [
    "nTurbs=int(ParamVals[3:].shape[0]/2)"
   ]
  },
  {
   "cell_type": "code",
   "execution_count": 8,
   "metadata": {},
   "outputs": [],
   "source": [
    "nCases=ParamVals.shape[1]"
   ]
  },
  {
   "cell_type": "markdown",
   "metadata": {},
   "source": [
    "### This section can be modified based on how you want to name your directory structure"
   ]
  },
  {
   "cell_type": "code",
   "execution_count": 9,
   "metadata": {},
   "outputs": [],
   "source": [
    "caseNames=['None']*nCases\n",
    "for case in range(nCases):\n",
    "    if case < 10:\n",
    "        case = '0'+str(case)\n",
    "    caseNames[int(case)] = 'Case{0}'.format(case)\n",
    "    \n",
    "ParamVals.columns=caseNames"
   ]
  },
  {
   "cell_type": "markdown",
   "metadata": {},
   "source": [
    "### This section creates the directory structure and copies any nominal files from a specified directory to all directories created here. This will have to be modified based on the directory structure you want and the files you want to copy"
   ]
  },
  {
   "cell_type": "code",
   "execution_count": 10,
   "metadata": {},
   "outputs": [
    {
     "data": {
      "text/plain": [
       "'/home/kshaler/python-toolbox/pyFAST/fastfarm/FFarmSetup'"
      ]
     },
     "execution_count": 10,
     "metadata": {},
     "output_type": "execute_result"
    }
   ],
   "source": [
    "os.getcwd()"
   ]
  },
  {
   "cell_type": "code",
   "execution_count": 11,
   "metadata": {},
   "outputs": [
    {
     "name": "stdout",
     "output_type": "stream",
     "text": [
      "/home/kshaler/python-toolbox/pyFAST/fastfarm/FFarmSetup/Case00\n",
      "/home/kshaler/python-toolbox/pyFAST/fastfarm/FFarmSetup/Case00/Seed_0\n",
      "/home/kshaler/python-toolbox/pyFAST/fastfarm/FFarmSetup/Case00/Seed_1\n",
      "/home/kshaler/python-toolbox/pyFAST/fastfarm/FFarmSetup/Case01\n",
      "/home/kshaler/python-toolbox/pyFAST/fastfarm/FFarmSetup/Case01/Seed_0\n",
      "/home/kshaler/python-toolbox/pyFAST/fastfarm/FFarmSetup/Case01/Seed_1\n",
      "/home/kshaler/python-toolbox/pyFAST/fastfarm/FFarmSetup/Case02\n",
      "/home/kshaler/python-toolbox/pyFAST/fastfarm/FFarmSetup/Case02/Seed_0\n",
      "/home/kshaler/python-toolbox/pyFAST/fastfarm/FFarmSetup/Case02/Seed_1\n"
     ]
    }
   ],
   "source": [
    "for case in range(nCases):\n",
    "    name1=caseNames[case]\n",
    "    if not os.path.exists(name1):\n",
    "        os.makedirs(name1)\n",
    "    os.chdir(name1)\n",
    "    print(os.getcwd())\n",
    "    copyNominalFiles(nSeeds,nTurbs)\n",
    "    os.chdir('..')\n",
    "os.chdir('..')\n",
    "\n",
    "os.chdir(workdir)"
   ]
  },
  {
   "cell_type": "markdown",
   "metadata": {},
   "source": [
    "# Create TurbSim Files"
   ]
  },
  {
   "cell_type": "markdown",
   "metadata": {},
   "source": [
    "## The following command creates the .inp files for the low- and high-resolution domains, as well as a .inp file for each turbine in the simulation."
   ]
  },
  {
   "cell_type": "code",
   "execution_count": 14,
   "metadata": {},
   "outputs": [],
   "source": [
    "os.chdir(workdir)"
   ]
  },
  {
   "cell_type": "code",
   "execution_count": 15,
   "metadata": {
    "scrolled": true
   },
   "outputs": [
    {
     "name": "stdout",
     "output_type": "stream",
     "text": [
      "/home/kshaler/python-toolbox/pyFAST/fastfarm/FFarmSetup/Case00/Seed_0\n",
      "('Writing TurbSim input file: ', 'TSParams.txt')\n",
      "(-890.882481, 890.882481)\n",
      "Writing a new Low.inp file from scratch\n",
      "Writing a new HighT1.inp file from scratch\n",
      "Writing a new HighT2.inp file from scratch\n",
      "Writing a new HighT3.inp file from scratch\n",
      "/home/kshaler/python-toolbox/pyFAST/fastfarm/FFarmSetup/Case00/Seed_1\n",
      "('Writing TurbSim input file: ', 'TSParams.txt')\n",
      "(-890.882481, 890.882481)\n",
      "Writing a new Low.inp file from scratch\n",
      "Writing a new HighT1.inp file from scratch\n",
      "Writing a new HighT2.inp file from scratch\n",
      "Writing a new HighT3.inp file from scratch\n",
      "/home/kshaler/python-toolbox/pyFAST/fastfarm/FFarmSetup/Case01/Seed_0\n",
      "('Writing TurbSim input file: ', 'TSParams.txt')\n",
      "(-890.882481, 890.882481)\n",
      "Writing a new Low.inp file from scratch\n",
      "Writing a new HighT1.inp file from scratch\n",
      "Writing a new HighT2.inp file from scratch\n",
      "Writing a new HighT3.inp file from scratch\n",
      "/home/kshaler/python-toolbox/pyFAST/fastfarm/FFarmSetup/Case01/Seed_1\n",
      "('Writing TurbSim input file: ', 'TSParams.txt')\n",
      "(-890.882481, 890.882481)\n",
      "Writing a new Low.inp file from scratch\n",
      "Writing a new HighT1.inp file from scratch\n",
      "Writing a new HighT2.inp file from scratch\n",
      "Writing a new HighT3.inp file from scratch\n",
      "/home/kshaler/python-toolbox/pyFAST/fastfarm/FFarmSetup/Case02/Seed_0\n",
      "('Writing TurbSim input file: ', 'TSParams.txt')\n",
      "(-890.882481, 890.882481)\n",
      "Writing a new Low.inp file from scratch\n",
      "Writing a new HighT1.inp file from scratch\n",
      "Writing a new HighT2.inp file from scratch\n",
      "Writing a new HighT3.inp file from scratch\n",
      "/home/kshaler/python-toolbox/pyFAST/fastfarm/FFarmSetup/Case02/Seed_1\n",
      "('Writing TurbSim input file: ', 'TSParams.txt')\n",
      "(-890.882481, 890.882481)\n",
      "Writing a new Low.inp file from scratch\n",
      "Writing a new HighT1.inp file from scratch\n",
      "Writing a new HighT2.inp file from scratch\n",
      "Writing a new HighT3.inp file from scratch\n"
     ]
    },
    {
     "data": {
      "image/png": "[encoded data removed]",
      "text/plain": [
       "<Figure size 432x360 with 1 Axes>"
      ]
     },
     "metadata": {
      "needs_background": "light"
     },
     "output_type": "display_data"
    },
    {
     "data": {
      "image/png": "[encoded data removed]",
      "text/plain": [
       "<Figure size 432x360 with 1 Axes>"
      ]
     },
     "metadata": {
      "needs_background": "light"
     },
     "output_type": "display_data"
    },
    {
     "data": {
      "image/png": "[encoded data removed]",
      "text/plain": [
       "<Figure size 432x360 with 1 Axes>"
      ]
     },
     "metadata": {
      "needs_background": "light"
     },
     "output_type": "display_data"
    },
    {
     "data": {
      "image/png": "[encoded data removed]",
      "text/plain": [
       "<Figure size 432x360 with 1 Axes>"
      ]
     },
     "metadata": {
      "needs_background": "light"
     },
     "output_type": "display_data"
    },
    {
     "data": {
      "image/png": "[encoded data removed]",
      "text/plain": [
       "<Figure size 432x360 with 1 Axes>"
      ]
     },
     "metadata": {
      "needs_background": "light"
     },
     "output_type": "display_data"
    },
    {
     "data": {
      "image/png": "[encoded data removed]",
      "text/plain": [
       "<Figure size 432x360 with 1 Axes>"
      ]
     },
     "metadata": {
      "needs_background": "light"
     },
     "output_type": "display_data"
    }
   ],
   "source": [
    "createTSParamFiles(caseNames,nSeeds,ParamVals,D,HubHt,'TSParams.txt')"
   ]
  },
  {
   "cell_type": "markdown",
   "metadata": {},
   "source": [
    "## You are now ready to run TurbSim simulations to create the low-resolution domains. You can not yet create the high-resolution domains!!"
   ]
  },
  {
   "cell_type": "markdown",
   "metadata": {},
   "source": [
    "### Once the low-resolution simulations are complete, you are ready to finish generating the input files required for the high-resolution TurbSim domains, and you can move on to the next step."
   ]
  },
  {
   "cell_type": "markdown",
   "metadata": {},
   "source": [
    "## The following command creates the User-specified time series files that are required to finish generating the high-resolution TurbSim domains. This step will extract the time series from the .bts file from the low-resolution domain at each of the turbine locations and write them out into .txt files."
   ]
  },
  {
   "cell_type": "code",
   "execution_count": 16,
   "metadata": {},
   "outputs": [],
   "source": [
    "def writeTimeSeriesFile(fileOut,yloc,zloc,u,v,w,time):\n",
    "    import math\n",
    "    \"\"\" Write a TurbSim primary input file, \n",
    "\n",
    "    \"\"\"\n",
    "\n",
    "    print('Writing {0}'.format(fileOut))\n",
    "    # --- Writing TurbSim user-defined time series file\n",
    "    with open(fileOut, 'w') as f:\n",
    "        f.write('--------------TurbSim v2.00.* User Time Series Input File-----------------------\\n')\n",
    "        f.write('     Time series input from Experimental Data\\n')\n",
    "        f.write('--------------------------------------------------------------------------------\\n')\n",
    "        f.write('          3 nComp - Number of velocity components in the file\\n')\n",
    "        f.write('          1 nPoints - Number of time series points contained in this file (-)\\n')\n",
    "        f.write('          1 RefPtID - Index of the reference point (1-nPoints)\\n')\n",
    "        f.write('     Pointyi Pointzi ! nPoints listed in order of increasing height\\n')\n",
    "        f.write('       (m)     (m)\\n')\n",
    "        f.write('       {0}   {1}\\n'.format(yloc,zloc))\n",
    "        f.write('--------Time Series-------------------------------------------------------------\\n')\n",
    "        f.write('Elapsed Time            Point01u                Point01v                Point01w\\n')\n",
    "        f.write('       (s)             (m/s)                   (m/s)                   (m/s)\\n')\n",
    "        for i in range(time.shape[0]):\n",
    "            f.write('{:.2f}\\t{:.5f}\\t{:.5f}\\t{:.5f}\\n'.format(time[i],u[i],v[i],w[i]))"
   ]
  },
  {
   "cell_type": "code",
   "execution_count": 18,
   "metadata": {},
   "outputs": [
    {
     "name": "stdout",
     "output_type": "stream",
     "text": [
      "/home/kshaler/python-toolbox/pyFAST/fastfarm/FFarmSetup/Case00/Seed_0/TurbSim/Low\n",
      "Opening file /home/kshaler/python-toolbox/pyFAST/fastfarm/FFarmSetup/Case00/Seed_0/TurbSim/Low.bts...\n",
      "Writing /home/kshaler/python-toolbox/pyFAST/fastfarm/FFarmSetup/Case00/Seed_0/TurbSim/USRTimeSeries_T0.txt\n",
      "Writing /home/kshaler/python-toolbox/pyFAST/fastfarm/FFarmSetup/Case00/Seed_0/TurbSim/USRTimeSeries_T1.txt\n",
      "Writing /home/kshaler/python-toolbox/pyFAST/fastfarm/FFarmSetup/Case00/Seed_0/TurbSim/USRTimeSeries_T2.txt\n"
     ]
    }
   ],
   "source": [
    "nSeeds=1\n",
    "yloc = 0.0\n",
    "zloc = HubHt\n",
    "for case in ['Case00']:#caseNames:\n",
    "    xlocs=['None']*nTurbs\n",
    "    ylocs=['None']*nTurbs\n",
    "    for wt in range(nTurbs):\n",
    "        xlocs[wt]=float(ParamVals[case][3+wt*2])\n",
    "        ylocs[wt]=float(ParamVals[case][4+wt*2])\n",
    "    for seed in range(nSeeds):\n",
    "        abspath = '/home/kshaler/python-toolbox/pyFAST/fastfarm/FFarmSetup/{0}/Seed_{1}/TurbSim/'.format(case,seed)\n",
    "        \n",
    "        TSpathLow  = abspath+'Low'\n",
    "        print(TSpathLow)\n",
    "        IFdata = stochasticTurbulence(D,prefix=TSpathLow)\n",
    "        IFdata.readBTS('.',HubHt)\n",
    "        meanu = IFdata.u[:,IFdata.jHub,IFdata.kHub].mean()\n",
    "        Width = IFdata.dY*(IFdata.nY-1)\n",
    "        lowTime = np.arange(0, IFdata.nSeconds, IFdata.dT)\n",
    "        \n",
    "        for wt in range(nTurbs):\n",
    "            tstart=int(xlocs[wt]/meanu/IFdata.dT+3.0*D) ## This 3D is based on the default in this scripts to start the FFarm domain 3D upstream of the most upstream turbine. Modify if needed\n",
    "\n",
    "            tmp = lowTime.shape[0]-tstart\n",
    "\n",
    "            TurbLoc_rel=ylocs[wt]+Width/2.\n",
    "\n",
    "            fileOut = abspath+'USRTimeSeries_T{0}.txt'.format(wt)\n",
    "\n",
    "            uvel = np.zeros(lowTime.shape[0])\n",
    "            vvel = np.zeros(lowTime.shape[0])\n",
    "            wvel = np.zeros(lowTime.shape[0])\n",
    "\n",
    "            uvel[:tmp] = IFdata.u[tstart:,IFdata.y2j(TurbLoc_rel),IFdata.kHub]\n",
    "            vvel[:tmp] = IFdata.v[tstart:,IFdata.y2j(TurbLoc_rel),IFdata.kHub]\n",
    "            wvel[:tmp] = IFdata.w[tstart:,IFdata.y2j(TurbLoc_rel),IFdata.kHub]\n",
    "\n",
    "            uvel[tmp:] = IFdata.u[:tstart,IFdata.y2j(TurbLoc_rel),IFdata.kHub]\n",
    "            vvel[tmp:] = IFdata.v[:tstart,IFdata.y2j(TurbLoc_rel),IFdata.kHub]\n",
    "            wvel[tmp:] = IFdata.w[:tstart,IFdata.y2j(TurbLoc_rel),IFdata.kHub]\n",
    "\n",
    "\n",
    "            writeTimeSeriesFile(fileOut,yloc,zloc,uvel,vvel,wvel,lowTime)"
   ]
  },
  {
   "cell_type": "markdown",
   "metadata": {},
   "source": [
    "### You are now ready to run TurbSim for each of your high-res domains!\n",
    "######  \n",
    "### Once those domains are created, you are ready for the final step of creating the FAST.Farm input (.fstf) input file"
   ]
  },
  {
   "cell_type": "code",
   "execution_count": 11,
   "metadata": {},
   "outputs": [
    {
     "data": {
      "text/plain": [
       "'/lustre/eaglefs/scratch/kshaler/FFarmSetup/Case00'"
      ]
     },
     "execution_count": 11,
     "metadata": {},
     "output_type": "execute_result"
    }
   ],
   "source": [
    "os.getcwd()"
   ]
  },
  {
   "cell_type": "code",
   "execution_count": 10,
   "metadata": {},
   "outputs": [
    {
     "name": "stdout",
     "output_type": "stream",
     "text": [
      "/lustre/eaglefs/scratch/kshaler/FFarmSetup/Case00\n",
      "Opening file Seed_0/TurbSim/Low.bts...\n"
     ]
    },
    {
     "ename": "AttributeError",
     "evalue": "stochasticTurbulence instance has no attribute 'RefHt'",
     "output_type": "error",
     "traceback": [
      "\u001b[0;31m\u001b[0m",
      "\u001b[0;31mAttributeError\u001b[0mTraceback (most recent call last)",
      "\u001b[0;32m<ipython-input-10-80511a998194>\u001b[0m in \u001b[0;36m<module>\u001b[0;34m()\u001b[0m\n\u001b[0;32m----> 1\u001b[0;31m \u001b[0mcreateFFParamFiles\u001b[0m\u001b[0;34m(\u001b[0m\u001b[0mcaseNames\u001b[0m\u001b[0;34m,\u001b[0m\u001b[0mnSeeds\u001b[0m\u001b[0;34m,\u001b[0m\u001b[0mParamVals\u001b[0m\u001b[0;34m,\u001b[0m\u001b[0mHubHt\u001b[0m\u001b[0;34m,\u001b[0m\u001b[0mD\u001b[0m\u001b[0;34m,\u001b[0m\u001b[0;34m'FFarmParams.txt'\u001b[0m\u001b[0;34m)\u001b[0m\u001b[0;34m\u001b[0m\u001b[0m\n\u001b[0m",
      "\u001b[0;32m/home/kshaler/PostProcessing/General/ParameterManipulation.py\u001b[0m in \u001b[0;36mcreateFFParamFiles\u001b[0;34m(caseNames, nSeeds, data, HubHt, D, fileOut)\u001b[0m\n\u001b[1;32m    147\u001b[0m \u001b[0;34m\u001b[0m\u001b[0m\n\u001b[1;32m    148\u001b[0m                 \u001b[0mIFdata\u001b[0m \u001b[0;34m=\u001b[0m \u001b[0mstochasticTurbulence\u001b[0m\u001b[0;34m(\u001b[0m\u001b[0mD\u001b[0m\u001b[0;34m,\u001b[0m\u001b[0mprefix\u001b[0m\u001b[0;34m=\u001b[0m\u001b[0;34m'Low'\u001b[0m\u001b[0;34m)\u001b[0m\u001b[0;34m\u001b[0m\u001b[0m\n\u001b[0;32m--> 149\u001b[0;31m                 \u001b[0mHubHt_LowTS\u001b[0m \u001b[0;34m=\u001b[0m \u001b[0mIFdata\u001b[0m\u001b[0;34m.\u001b[0m\u001b[0mRefHt\u001b[0m\u001b[0;34m\u001b[0m\u001b[0m\n\u001b[0m\u001b[1;32m    150\u001b[0m                 \u001b[0mIFdata\u001b[0m\u001b[0;34m.\u001b[0m\u001b[0mreadBTS\u001b[0m\u001b[0;34m(\u001b[0m\u001b[0;34m'Seed_0/TurbSim'\u001b[0m\u001b[0;34m,\u001b[0m \u001b[0mHubHt_LowTS\u001b[0m\u001b[0;34m)\u001b[0m\u001b[0;34m\u001b[0m\u001b[0m\n\u001b[1;32m    151\u001b[0m \u001b[0;34m\u001b[0m\u001b[0m\n",
      "\u001b[0;31mAttributeError\u001b[0m: stochasticTurbulence instance has no attribute 'RefHt'"
     ]
    }
   ],
   "source": [
    "createFFParamFiles(caseNames,nSeeds,ParamVals,HubHt,D,'FFarmParams.txt')"
   ]
  },
  {
   "cell_type": "code",
   "execution_count": 12,
   "metadata": {},
   "outputs": [
    {
     "data": {
      "text/html": [
       "<div>\n",
       "<style scoped>\n",
       "    .dataframe tbody tr th:only-of-type {\n",
       "        vertical-align: middle;\n",
       "    }\n",
       "\n",
       "    .dataframe tbody tr th {\n",
       "        vertical-align: top;\n",
       "    }\n",
       "\n",
       "    .dataframe thead th {\n",
       "        text-align: right;\n",
       "    }\n",
       "</style>\n",
       "<table border=\"1\" class=\"dataframe\">\n",
       "  <thead>\n",
       "    <tr style=\"text-align: right;\">\n",
       "      <th></th>\n",
       "      <th>Case00</th>\n",
       "      <th>Case01</th>\n",
       "      <th>Case02</th>\n",
       "    </tr>\n",
       "    <tr>\n",
       "      <th>0</th>\n",
       "      <th></th>\n",
       "      <th></th>\n",
       "      <th></th>\n",
       "    </tr>\n",
       "  </thead>\n",
       "  <tbody>\n",
       "    <tr>\n",
       "      <th>TI</th>\n",
       "      <td>A</td>\n",
       "      <td>B</td>\n",
       "      <td>C</td>\n",
       "    </tr>\n",
       "    <tr>\n",
       "      <th>Vhub</th>\n",
       "      <td>6.0</td>\n",
       "      <td>12.0</td>\n",
       "      <td>18.0</td>\n",
       "    </tr>\n",
       "    <tr>\n",
       "      <th>Shear</th>\n",
       "      <td>0.1</td>\n",
       "      <td>0.2</td>\n",
       "      <td>0.3</td>\n",
       "    </tr>\n",
       "    <tr>\n",
       "      <th>T1x-locs</th>\n",
       "      <td>0.0</td>\n",
       "      <td>0.0</td>\n",
       "      <td>0.0</td>\n",
       "    </tr>\n",
       "    <tr>\n",
       "      <th>T1y-locs</th>\n",
       "      <td>0.0</td>\n",
       "      <td>0.0</td>\n",
       "      <td>0.0</td>\n",
       "    </tr>\n",
       "    <tr>\n",
       "      <th>T2x-locs</th>\n",
       "      <td>1722.0</td>\n",
       "      <td>1722.0</td>\n",
       "      <td>1722.0</td>\n",
       "    </tr>\n",
       "    <tr>\n",
       "      <th>T2y-locs</th>\n",
       "      <td>0.0</td>\n",
       "      <td>369.0</td>\n",
       "      <td>-369.0</td>\n",
       "    </tr>\n",
       "    <tr>\n",
       "      <th>T3x-locs</th>\n",
       "      <td>3444.0</td>\n",
       "      <td>3444.0</td>\n",
       "      <td>3444.0</td>\n",
       "    </tr>\n",
       "    <tr>\n",
       "      <th>T3y-locs</th>\n",
       "      <td>0.0</td>\n",
       "      <td>369.0</td>\n",
       "      <td>-369.0</td>\n",
       "    </tr>\n",
       "  </tbody>\n",
       "</table>\n",
       "</div>"
      ],
      "text/plain": [
       "          Case00  Case01  Case02\n",
       "0                               \n",
       "TI             A       B       C\n",
       "Vhub         6.0    12.0    18.0\n",
       "Shear        0.1     0.2     0.3\n",
       "T1x-locs     0.0     0.0     0.0\n",
       "T1y-locs     0.0     0.0     0.0\n",
       "T2x-locs  1722.0  1722.0  1722.0\n",
       "T2y-locs     0.0   369.0  -369.0\n",
       "T3x-locs  3444.0  3444.0  3444.0\n",
       "T3y-locs     0.0   369.0  -369.0"
      ]
     },
     "execution_count": 12,
     "metadata": {},
     "output_type": "execute_result"
    }
   ],
   "source": [
    "ParamVals[case]"
   ]
  },
  {
   "cell_type": "code",
   "execution_count": null,
   "metadata": {},
   "outputs": [],
   "source": []
  }
 ],
 "metadata": {
  "kernelspec": {
   "display_name": "PythonTres",
   "language": "python",
   "name": "mypython3"
  },
  "language_info": {
   "codemirror_mode": {
    "name": "ipython",
    "version": 2
   },
   "file_extension": ".py",
   "mimetype": "text/x-python",
   "name": "python",
   "nbconvert_exporter": "python",
   "pygments_lexer": "ipython2",
   "version": "2.7.15"
  }
 },
 "nbformat": 4,
 "nbformat_minor": 2
}
